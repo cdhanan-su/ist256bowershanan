{
 "cells": [
  {
   "cell_type": "code",
   "execution_count": 2,
   "metadata": {},
   "outputs": [],
   "source": [
    "import pandas as pd\n",
    "import requests\n",
    "\n"
   ]
  },
  {
   "cell_type": "code",
   "execution_count": 9,
   "metadata": {},
   "outputs": [
    {
     "name": "stdout",
     "output_type": "stream",
     "text": [
      "{'error': 'Invalid API key'}\n"
     ]
    }
   ],
   "source": [
    "#making a dictionary\n",
    "url = \"https://tastedive.com/api/similar\"\n",
    "with open(\"env_variables\") as f:\n",
    "    api_key = f.readlines()\n",
    "    api_key = api_key[3]\n",
    "data = {'q':'Scream', 'type':'movies', 'info': [1], 'limit': [10], 'k': api_key}\n",
    "resp = requests.get(url, data)\n",
    "rec = resp.json()\n",
    "for i in range(0,10):\n",
    "    print(rec['Similar']['Results'][i]['Name'])"
   ]
  },
  {
   "cell_type": "code",
   "execution_count": null,
   "metadata": {},
   "outputs": [],
   "source": []
  }
 ],
 "metadata": {
  "kernelspec": {
   "display_name": "Python 3",
   "language": "python",
   "name": "python3"
  },
  "language_info": {
   "codemirror_mode": {
    "name": "ipython",
    "version": 3
   },
   "file_extension": ".py",
   "mimetype": "text/x-python",
   "name": "python",
   "nbconvert_exporter": "python",
   "pygments_lexer": "ipython3",
   "version": "3.7.3"
  }
 },
 "nbformat": 4,
 "nbformat_minor": 2
}
