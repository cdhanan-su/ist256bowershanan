{
 "cells": [
  {
   "cell_type": "code",
   "execution_count": null,
   "metadata": {},
   "outputs": [],
   "source": [
    "url = \"https://tastedive.com/api/similar\"\n",
    "with open(\"env_variables\") as f:\n",
    "    api_key = f.readlines()\n",
    "    api_key = api_key[3]\n",
    "    api_key = api_key[:-1]\n",
    "data = {'q':'Up', 'type':'movies', 'info': [1], 'limit': [10], 'k': api_key}\n",
    "resp = requests.get(url, data)\n",
    "rec = resp.json()\n",
    "for i in range(0,3):\n",
    "    display(rec['Similar']['Results'][i]['Name'])\n",
    "    display(YouTubeVideo(rec['Similar']['Results'][i]['yID'], width=400, height=300))"
   ]
  }
 ],
 "metadata": {
  "kernelspec": {
   "display_name": "Python 3",
   "language": "python",
   "name": "python3"
  },
  "language_info": {
   "codemirror_mode": {
    "name": "ipython",
    "version": 3
   },
   "file_extension": ".py",
   "mimetype": "text/x-python",
   "name": "python",
   "nbconvert_exporter": "python",
   "pygments_lexer": "ipython3",
   "version": "3.7.3"
  }
 },
 "nbformat": 4,
 "nbformat_minor": 2
}
