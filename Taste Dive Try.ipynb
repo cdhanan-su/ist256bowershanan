{
 "cells": [
  {
   "cell_type": "code",
   "execution_count": 1,
   "metadata": {},
   "outputs": [],
   "source": [
    "import pandas as pd\n",
    "import requests\n",
    "\n"
   ]
  },
  {
   "cell_type": "code",
   "execution_count": 17,
   "metadata": {},
   "outputs": [
    {
     "name": "stdout",
     "output_type": "stream",
     "text": [
      "Scream 2\n",
      "Scream 3\n",
      "Scream 4\n",
      "I Know What You Did Last Summer\n",
      "I Still Know What You Did Last Summer\n",
      "Halloween II\n",
      "Halloween 4: The Return Of Michael Myers\n",
      "Urban Legend\n",
      "Friday The 13th Part 2\n",
      "Black Christmas\n"
     ]
    }
   ],
   "source": [
    "#making a dictionary\n",
    "url = \"https://tastedive.com/api/similar\"\n",
    "with open(\"env_variables\") as f:\n",
    "    api_key = f.readlines()\n",
    "    api_key = api_key[3]\n",
    "    api_key = api_key[:-1]\n",
    "data = {'q':'Scream', 'type':'movies', 'info': [1], 'limit': [10], 'k': api_key}\n",
    "resp = requests.get(url, data)\n",
    "rec = resp.json()\n",
    "for i in range(0,10):\n",
    "    print(rec['Similar']['Results'][i]['Name'])"
   ]
  },
  {
   "cell_type": "code",
   "execution_count": null,
   "metadata": {},
   "outputs": [],
   "source": []
  }
 ],
 "metadata": {
  "kernelspec": {
   "display_name": "Python 3",
   "language": "python",
   "name": "python3"
  },
  "language_info": {
   "codemirror_mode": {
    "name": "ipython",
    "version": 3
   },
   "file_extension": ".py",
   "mimetype": "text/x-python",
   "name": "python",
   "nbconvert_exporter": "python",
   "pygments_lexer": "ipython3",
   "version": "3.7.3"
  }
 },
 "nbformat": 4,
 "nbformat_minor": 2
}
