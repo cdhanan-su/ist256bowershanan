{
 "cells": [
  {
   "cell_type": "code",
   "execution_count": 1,
   "metadata": {},
   "outputs": [],
   "source": [
    "#opening menu interactive\n",
    "def menu():\n",
    "    '''Offers menu options to start the program - does not need input, only to be called'''\n",
    "    options = (\"1\", \"2\", \"3\", \"q\") #initialize the set of valid options\n",
    "    print(\"Welcome to Plenty of Films. Please select what you would like to do: \")\n",
    "    while True: #start loop to force a valid selection\n",
    "        print(\"\\n1: IMDB Top 250 Search \") #option 1 - NLTK\n",
    "        print(\"2: Movie Lookup \") #option 2 - TasteDive (lookup)\n",
    "        print(\"3: Movie Recommendations \") #option 3 - TasteDive (similar)\n",
    "        print(\"q: Quit \\n\")\n",
    "        choice = input() #Take choice\n",
    "        if choice not in options: #If choice is not 1, 2, 3, or q then restart the loop\n",
    "            print(\"\\nYou entered an invalid selection. \\n\\nPlease try again by entering the number of the selection you would like to make: \")\n",
    "        else:\n",
    "            break\n",
    "    return choice #return the user's choice"
   ]
  },
  {
   "cell_type": "code",
   "execution_count": null,
   "metadata": {},
   "outputs": [],
   "source": []
  }
 ],
 "metadata": {
  "kernelspec": {
   "display_name": "Python 3",
   "language": "python",
   "name": "python3"
  },
  "language_info": {
   "codemirror_mode": {
    "name": "ipython",
    "version": 3
   },
   "file_extension": ".py",
   "mimetype": "text/x-python",
   "name": "python",
   "nbconvert_exporter": "python",
   "pygments_lexer": "ipython3",
   "version": "3.7.3"
  }
 },
 "nbformat": 4,
 "nbformat_minor": 2
}
