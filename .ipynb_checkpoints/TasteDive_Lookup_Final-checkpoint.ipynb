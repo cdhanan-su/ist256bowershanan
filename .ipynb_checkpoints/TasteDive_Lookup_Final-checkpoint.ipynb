{
 "cells": [
  {
   "cell_type": "code",
   "execution_count": 2,
   "metadata": {},
   "outputs": [],
   "source": [
    "import requests #for TasteDive\n",
    "from IPython.display import YouTubeVideo, HTML, display #for TasteDive\n",
    "import textwrap #for displaying the synopsis\n",
    "import json"
   ]
  },
  {
   "cell_type": "code",
   "execution_count": 14,
   "metadata": {},
   "outputs": [],
   "source": [
    "def lookup_movie(title):\n",
    "    try:    \n",
    "        url = \"https://tastedive.com/api/similar\"\n",
    "        with open(\"env_variables\") as f:\n",
    "            api_key = f.readlines()\n",
    "            api_key = api_key[3]\n",
    "            api_key = api_key[:-1]\n",
    "        data = {'q': title, 'type': 'movies', 'info': [1], 'limit': [10], 'k': api_key}\n",
    "        resp = requests.get(url, data)\n",
    "        rec = resp.json()\n",
    "        title = rec['Similar']['Info'][0]['Name']\n",
    "        try:\n",
    "            teaser = rec['Similar']['Info'][0]['wTeaser']\n",
    "            trailer = YouTubeVideo(rec['Similar']['Info'][0]['yID'], width=400, height=300)\n",
    "        except KeyError:\n",
    "            print(f\"\\nNo results found for '{title}'. \")\n",
    "            teaser = ''\n",
    "            trailer = ''\n",
    "        \n",
    "    except requests.exceptions.RequestException as e:\n",
    "        print(\"ERROR: Cannot connect to website, please try again later. \")\n",
    "        print(\"DETAILS:\", e)\n",
    "    except requests.exceptions.HTTPError as e:\n",
    "        print(\"ERROR: Response from the website was not ok.\")\n",
    "        print(\"DETAILS:\", e)          \n",
    "    except json.decoder.JSONDecodeError as e: \n",
    "        print(\"ERROR: Cannot decode the response with json\")\n",
    "        print(\"DETAILS\", e)\n",
    "        \n",
    "    return title, teaser, trailer\n",
    "\n",
    "\n",
    "\n",
    "def query_movie():\n",
    "    search = input(\"What film would you like to lookup? Please enter the title: \")\n",
    "    title, teaser, trailer = lookup_movie(search)\n",
    "    display(HTML(f\"<h4>{title}</h4>\"))\n",
    "    display(HTML(f\"{textwrap.fill(teaser)}\"))\n",
    "    display(trailer)\n",
    "    menu_route = lookup_continuation()\n",
    "    return menu_route\n",
    "\n",
    "\n",
    "\n",
    "def lookup_continuation():\n",
    "    while True:\n",
    "        print(\"Would you like to: \")\n",
    "        print(\"    Search for a different title? Enter '1' to search again. \")\n",
    "        print(\"    Return to the main menu? Enter '2' to continue. \")\n",
    "        print(\"    Quit. Enter 'q' to quit. \\n\")\n",
    "        choice = input()\n",
    "        if choice == '1':\n",
    "            menu_route = False\n",
    "            query_movie()\n",
    "            break\n",
    "        elif choice == '2':\n",
    "            menu_route = True\n",
    "            break\n",
    "        elif choice == 'q':\n",
    "            menu_route = False\n",
    "            break\n",
    "        else:\n",
    "            print(\"Please make a valid selection. Choose '1' to search again, '2' to return, or 'q' to quit. \")\n",
    "    return menu_route"
   ]
  },
  {
   "cell_type": "code",
   "execution_count": null,
   "metadata": {},
   "outputs": [],
   "source": []
  }
 ],
 "metadata": {
  "kernelspec": {
   "display_name": "Python 3",
   "language": "python",
   "name": "python3"
  },
  "language_info": {
   "codemirror_mode": {
    "name": "ipython",
    "version": 3
   },
   "file_extension": ".py",
   "mimetype": "text/x-python",
   "name": "python",
   "nbconvert_exporter": "python",
   "pygments_lexer": "ipython3",
   "version": "3.7.3"
  }
 },
 "nbformat": 4,
 "nbformat_minor": 2
}
