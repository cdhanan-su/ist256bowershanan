{
 "cells": [
  {
   "cell_type": "code",
   "execution_count": 1,
   "metadata": {
    "scrolled": true
   },
   "outputs": [
    {
     "name": "stdout",
     "output_type": "stream",
     "text": [
      "Requirement already satisfied: import_ipynb in /opt/conda/lib/python3.7/site-packages (0.1.3)\n",
      "importing Jupyter notebook from Functions.ipynb\n",
      "importing Jupyter notebook from NLTK_Final.ipynb\n",
      "Requirement already satisfied: nltk in /opt/conda/lib/python3.7/site-packages (3.4.5)\n",
      "Requirement already satisfied: six in /opt/conda/lib/python3.7/site-packages (from nltk) (1.12.0)\n",
      "NLTK Downloader\n",
      "---------------------------------------------------------------------------\n",
      "    d) Download   l) List    u) Update   c) Config   h) Help   q) Quit\n",
      "---------------------------------------------------------------------------\n",
      "Downloader> q\n",
      "importing Jupyter notebook from TasteDive_Lookup_Final.ipynb\n",
      "importing Jupyter notebook from TasteDive_Recommend_Final.ipynb\n"
     ]
    }
   ],
   "source": [
    "#imports\n",
    "!pip install import_ipynb\n",
    "import import_ipynb #to read .ipynb files\n",
    "import Functions, NLTK_Final, TasteDive_Lookup_Final, TasteDive_Recommend_Final #get them from other file"
   ]
  },
  {
   "cell_type": "code",
   "execution_count": 2,
   "metadata": {
    "scrolled": false
   },
   "outputs": [
    {
     "data": {
      "text/html": [
       "<h1><i><u>Movie Recommendation Engine</u></i></h1>"
      ],
      "text/plain": [
       "<IPython.core.display.HTML object>"
      ]
     },
     "metadata": {},
     "output_type": "display_data"
    },
    {
     "name": "stdout",
     "output_type": "stream",
     "text": [
      "Welcome to the Movie Lookup Engine. Please select what you would like to do: \n",
      "\n",
      "1: IMDB Top 250 Search \n",
      "2: Movie Lookup \n",
      "3: Movie Reccomendations \n",
      "q: Quit \n",
      "\n",
      "2\n",
      "What film would you like to lookup? Please enter the title: v for vengetta\n",
      "\n",
      "No results found for 'v for vengetta'. \n"
     ]
    },
    {
     "data": {
      "text/html": [
       "<h4>v for vengetta</h4>"
      ],
      "text/plain": [
       "<IPython.core.display.HTML object>"
      ]
     },
     "metadata": {},
     "output_type": "display_data"
    },
    {
     "data": {
      "text/html": [],
      "text/plain": [
       "<IPython.core.display.HTML object>"
      ]
     },
     "metadata": {},
     "output_type": "display_data"
    },
    {
     "data": {
      "text/plain": [
       "''"
      ]
     },
     "metadata": {},
     "output_type": "display_data"
    },
    {
     "name": "stdout",
     "output_type": "stream",
     "text": [
      "Would you like to: \n",
      "    Search for a different title? Enter '1' to search again. \n",
      "    Return to the main menu? Enter '2' to continue. \n",
      "    Quit. Enter 'q' to quit. \n",
      "\n",
      "q\n"
     ]
    }
   ],
   "source": [
    "#title\n",
    "from IPython.display import display, HTML\n",
    "display(HTML(\"<h1><i><u>Movie Recommendation Engine</u></i></h1>\")) #title\n",
    "\n",
    "\n",
    "\n",
    "#menu\n",
    "def menu():\n",
    "    choice = Functions.menu()\n",
    "    return choice\n",
    "\n",
    "#logic of tree split in menu\n",
    "def menu_pathing():\n",
    "    choice = menu()\n",
    "    if choice == \"1\":\n",
    "        data = NLTK_Final.callimdblist()\n",
    "        data = NLTK_Final.create_table_250()\n",
    "        menu_route = NLTK_Final.search_params(data)\n",
    "    elif choice == \"2\":\n",
    "        menu_route = TasteDive_Lookup_Final.query_movie()\n",
    "    elif choice == \"3\":\n",
    "        menu_route = TasteDive_Recommend_Final.query_movie()\n",
    "    elif choice == 'q':\n",
    "        menu_route = False\n",
    "        print(\"Goodbye\")\n",
    "    else:\n",
    "        print(\"Error\")\n",
    "    if menu_route == True:\n",
    "        menu_pathing()\n",
    "        \n",
    "menu_pathing()"
   ]
  },
  {
   "cell_type": "code",
   "execution_count": null,
   "metadata": {},
   "outputs": [],
   "source": []
  }
 ],
 "metadata": {
  "kernelspec": {
   "display_name": "Python 3",
   "language": "python",
   "name": "python3"
  },
  "language_info": {
   "codemirror_mode": {
    "name": "ipython",
    "version": 3
   },
   "file_extension": ".py",
   "mimetype": "text/x-python",
   "name": "python",
   "nbconvert_exporter": "python",
   "pygments_lexer": "ipython3",
   "version": "3.7.3"
  }
 },
 "nbformat": 4,
 "nbformat_minor": 2
}
