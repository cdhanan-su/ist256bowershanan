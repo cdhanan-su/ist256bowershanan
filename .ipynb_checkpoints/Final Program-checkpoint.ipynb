{
 "cells": [
  {
   "cell_type": "code",
   "execution_count": 3,
   "metadata": {},
   "outputs": [
    {
     "name": "stdout",
     "output_type": "stream",
     "text": [
      "Requirement already satisfied: import_ipynb in /opt/conda/lib/python3.7/site-packages (0.1.3)\n",
      "Requirement already satisfied: nltk in /opt/conda/lib/python3.7/site-packages (3.4.5)\n",
      "Requirement already satisfied: six in /opt/conda/lib/python3.7/site-packages (from nltk) (1.12.0)\n",
      "NLTK Downloader\n",
      "---------------------------------------------------------------------------\n",
      "    d) Download   l) List    u) Update   c) Config   h) Help   q) Quit\n",
      "---------------------------------------------------------------------------\n",
      "Downloader> q\n"
     ]
    }
   ],
   "source": [
    "#installs\n",
    "!pip install import_ipynb #install module if you haven't already\n",
    "!pip install nltk #install if you haven't already\n",
    "import nltk\n",
    "nltk.download() #run downloader - hit \"d\" then enter (for download), then when prompted type \"all\" (for all corpora)\n",
    "\n",
    "#imports\n",
    "import import_ipynb #to read .ipynb files\n",
    "import Functions #get them from other file\n",
    "Functions.import_modules()"
   ]
  },
  {
   "cell_type": "code",
   "execution_count": 4,
   "metadata": {},
   "outputs": [
    {
     "data": {
      "text/html": [
       "<h1><i><u>Movie Recommendation Engine</u></i></h1>"
      ],
      "text/plain": [
       "<IPython.core.display.HTML object>"
      ]
     },
     "metadata": {},
     "output_type": "display_data"
    },
    {
     "name": "stdout",
     "output_type": "stream",
     "text": [
      "Welcome to the Movie Lookup Engine. Please select what you would like to do: \n",
      "\n",
      "1: IMDB Top 250 Search \n",
      "2: Movie Lookup \n",
      "3: Movie Reccomendations \n",
      "\n",
      "1\n",
      "1 - success\n"
     ]
    }
   ],
   "source": [
    "#title\n",
    "from IPython.display import display, HTML\n",
    "display(HTML(\"<h1><i><u>Movie Recommendation Engine</u></i></h1>\")) #title\n",
    "\n",
    "\n",
    "\n",
    "#menu\n",
    "choice = Functions.menu()\n",
    "if choice == \"1\":\n",
    "    print(\"1 - success\")\n",
    "elif choice == \"2\":\n",
    "    print(\"2 - success\")\n",
    "elif choice == \"3\":\n",
    "    print(\"3 - success\")\n",
    "else:\n",
    "    print(\"Error\")"
   ]
  },
  {
   "cell_type": "code",
   "execution_count": 8,
   "metadata": {},
   "outputs": [
    {
     "name": "stdout",
     "output_type": "stream",
     "text": [
      "Help on function import_modules in module Functions:\n",
      "\n",
      "import_modules()\n",
      "\n"
     ]
    }
   ],
   "source": [
    "help(Functions.import_modules)"
   ]
  },
  {
   "cell_type": "code",
   "execution_count": null,
   "metadata": {},
   "outputs": [],
   "source": []
  }
 ],
 "metadata": {
  "kernelspec": {
   "display_name": "Python 3",
   "language": "python",
   "name": "python3"
  },
  "language_info": {
   "codemirror_mode": {
    "name": "ipython",
    "version": 3
   },
   "file_extension": ".py",
   "mimetype": "text/x-python",
   "name": "python",
   "nbconvert_exporter": "python",
   "pygments_lexer": "ipython3",
   "version": "3.7.3"
  }
 },
 "nbformat": 4,
 "nbformat_minor": 2
}
