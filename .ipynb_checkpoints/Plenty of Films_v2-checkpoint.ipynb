{
 "cells": [
  {
   "cell_type": "code",
   "execution_count": 1,
   "metadata": {
    "scrolled": true
   },
   "outputs": [
    {
     "name": "stdout",
     "output_type": "stream",
     "text": [
      "Collecting import_ipynb\n",
      "  Downloading https://files.pythonhosted.org/packages/63/35/495e0021bfdcc924c7cdec4e9fbb87c88dd03b9b9b22419444dc370c8a45/import-ipynb-0.1.3.tar.gz\n",
      "Building wheels for collected packages: import-ipynb\n",
      "  Building wheel for import-ipynb (setup.py) ... \u001b[?25ldone\n",
      "\u001b[?25h  Stored in directory: /home/jovyan/.cache/pip/wheels/b4/7b/e9/a3a6e496115dffdb4e3085d0ae39ffe8a814eacc44bbf494b5\n",
      "Successfully built import-ipynb\n",
      "Installing collected packages: import-ipynb\n",
      "Successfully installed import-ipynb-0.1.3\n",
      "importing Jupyter notebook from Functions_v2.ipynb\n",
      "importing Jupyter notebook from NLTK_Final_v2.ipynb\n",
      "Collecting nltk\n",
      "\u001b[?25l  Downloading https://files.pythonhosted.org/packages/f6/1d/d925cfb4f324ede997f6d47bea4d9babba51b49e87a767c170b77005889d/nltk-3.4.5.zip (1.5MB)\n",
      "\u001b[K     |████████████████████████████████| 1.5MB 5.1MB/s eta 0:00:01\n",
      "\u001b[?25hRequirement already satisfied: six in /opt/conda/lib/python3.7/site-packages (from nltk) (1.12.0)\n",
      "Building wheels for collected packages: nltk\n",
      "  Building wheel for nltk (setup.py) ... \u001b[?25ldone\n",
      "\u001b[?25h  Stored in directory: /home/jovyan/.cache/pip/wheels/96/86/f6/68ab24c23f207c0077381a5e3904b2815136b879538a24b483\n",
      "Successfully built nltk\n",
      "Installing collected packages: nltk\n",
      "Successfully installed nltk-3.4.5\n",
      "NLTK Downloader\n",
      "---------------------------------------------------------------------------\n",
      "    d) Download   l) List    u) Update   c) Config   h) Help   q) Quit\n",
      "---------------------------------------------------------------------------\n",
      "Downloader> d\n",
      "\n",
      "Download which package (l=list; x=cancel)?\n",
      "  Identifier> all\n"
     ]
    },
    {
     "name": "stderr",
     "output_type": "stream",
     "text": [
      "    Downloading collection 'all'\n",
      "       | \n",
      "       | Downloading package abc to /home/jovyan/nltk_data...\n",
      "       |   Unzipping corpora/abc.zip.\n",
      "       | Downloading package alpino to /home/jovyan/nltk_data...\n",
      "       |   Unzipping corpora/alpino.zip.\n",
      "       | Downloading package biocreative_ppi to\n",
      "       |     /home/jovyan/nltk_data...\n",
      "       |   Unzipping corpora/biocreative_ppi.zip.\n",
      "       | Downloading package brown to /home/jovyan/nltk_data...\n",
      "       |   Unzipping corpora/brown.zip.\n",
      "       | Downloading package brown_tei to /home/jovyan/nltk_data...\n",
      "       |   Unzipping corpora/brown_tei.zip.\n",
      "       | Downloading package cess_cat to /home/jovyan/nltk_data...\n",
      "       |   Unzipping corpora/cess_cat.zip.\n",
      "       | Downloading package cess_esp to /home/jovyan/nltk_data...\n",
      "       |   Unzipping corpora/cess_esp.zip.\n",
      "       | Downloading package chat80 to /home/jovyan/nltk_data...\n",
      "       |   Unzipping corpora/chat80.zip.\n",
      "       | Downloading package city_database to\n",
      "       |     /home/jovyan/nltk_data...\n",
      "       |   Unzipping corpora/city_database.zip.\n",
      "       | Downloading package cmudict to /home/jovyan/nltk_data...\n",
      "       |   Unzipping corpora/cmudict.zip.\n",
      "       | Downloading package comparative_sentences to\n",
      "       |     /home/jovyan/nltk_data...\n",
      "       |   Unzipping corpora/comparative_sentences.zip.\n",
      "       | Downloading package comtrans to /home/jovyan/nltk_data...\n",
      "       | Downloading package conll2000 to /home/jovyan/nltk_data...\n",
      "       |   Unzipping corpora/conll2000.zip.\n",
      "       | Downloading package conll2002 to /home/jovyan/nltk_data...\n",
      "       |   Unzipping corpora/conll2002.zip.\n",
      "       | Downloading package conll2007 to /home/jovyan/nltk_data...\n",
      "       | Downloading package crubadan to /home/jovyan/nltk_data...\n",
      "       |   Unzipping corpora/crubadan.zip.\n",
      "       | Downloading package dependency_treebank to\n",
      "       |     /home/jovyan/nltk_data...\n",
      "       |   Unzipping corpora/dependency_treebank.zip.\n",
      "       | Downloading package dolch to /home/jovyan/nltk_data...\n",
      "       |   Unzipping corpora/dolch.zip.\n",
      "       | Downloading package europarl_raw to /home/jovyan/nltk_data...\n",
      "       |   Unzipping corpora/europarl_raw.zip.\n",
      "       | Downloading package floresta to /home/jovyan/nltk_data...\n",
      "       |   Unzipping corpora/floresta.zip.\n",
      "       | Downloading package framenet_v15 to /home/jovyan/nltk_data...\n",
      "       |   Unzipping corpora/framenet_v15.zip.\n",
      "       | Downloading package framenet_v17 to /home/jovyan/nltk_data...\n",
      "       |   Unzipping corpora/framenet_v17.zip.\n",
      "       | Downloading package gazetteers to /home/jovyan/nltk_data...\n",
      "       |   Unzipping corpora/gazetteers.zip.\n",
      "       | Downloading package genesis to /home/jovyan/nltk_data...\n",
      "       |   Unzipping corpora/genesis.zip.\n",
      "       | Downloading package gutenberg to /home/jovyan/nltk_data...\n",
      "       |   Unzipping corpora/gutenberg.zip.\n",
      "       | Downloading package ieer to /home/jovyan/nltk_data...\n",
      "       |   Unzipping corpora/ieer.zip.\n",
      "       | Downloading package inaugural to /home/jovyan/nltk_data...\n",
      "       |   Unzipping corpora/inaugural.zip.\n",
      "       | Downloading package indian to /home/jovyan/nltk_data...\n",
      "       |   Unzipping corpora/indian.zip.\n",
      "       | Downloading package jeita to /home/jovyan/nltk_data...\n",
      "       | Downloading package kimmo to /home/jovyan/nltk_data...\n",
      "       |   Unzipping corpora/kimmo.zip.\n",
      "       | Downloading package knbc to /home/jovyan/nltk_data...\n",
      "       | Downloading package lin_thesaurus to\n",
      "       |     /home/jovyan/nltk_data...\n",
      "       |   Unzipping corpora/lin_thesaurus.zip.\n",
      "       | Downloading package mac_morpho to /home/jovyan/nltk_data...\n",
      "       |   Unzipping corpora/mac_morpho.zip.\n",
      "       | Downloading package machado to /home/jovyan/nltk_data...\n",
      "       | Downloading package masc_tagged to /home/jovyan/nltk_data...\n",
      "       | Downloading package moses_sample to /home/jovyan/nltk_data...\n",
      "       |   Unzipping models/moses_sample.zip.\n",
      "       | Downloading package movie_reviews to\n",
      "       |     /home/jovyan/nltk_data...\n",
      "       |   Unzipping corpora/movie_reviews.zip.\n",
      "       | Downloading package names to /home/jovyan/nltk_data...\n",
      "       |   Unzipping corpora/names.zip.\n",
      "       | Downloading package nombank.1.0 to /home/jovyan/nltk_data...\n",
      "       | Downloading package nps_chat to /home/jovyan/nltk_data...\n",
      "       |   Unzipping corpora/nps_chat.zip.\n",
      "       | Downloading package omw to /home/jovyan/nltk_data...\n",
      "       |   Unzipping corpora/omw.zip.\n",
      "       | Downloading package opinion_lexicon to\n",
      "       |     /home/jovyan/nltk_data...\n",
      "       |   Unzipping corpora/opinion_lexicon.zip.\n",
      "       | Downloading package paradigms to /home/jovyan/nltk_data...\n",
      "       |   Unzipping corpora/paradigms.zip.\n",
      "       | Downloading package pil to /home/jovyan/nltk_data...\n",
      "       |   Unzipping corpora/pil.zip.\n",
      "       | Downloading package pl196x to /home/jovyan/nltk_data...\n",
      "       |   Unzipping corpora/pl196x.zip.\n",
      "       | Downloading package ppattach to /home/jovyan/nltk_data...\n",
      "       |   Unzipping corpora/ppattach.zip.\n",
      "       | Downloading package problem_reports to\n",
      "       |     /home/jovyan/nltk_data...\n",
      "       |   Unzipping corpora/problem_reports.zip.\n",
      "       | Downloading package propbank to /home/jovyan/nltk_data...\n",
      "       | Downloading package ptb to /home/jovyan/nltk_data...\n",
      "       |   Unzipping corpora/ptb.zip.\n",
      "       | Downloading package product_reviews_1 to\n",
      "       |     /home/jovyan/nltk_data...\n",
      "       |   Unzipping corpora/product_reviews_1.zip.\n",
      "       | Downloading package product_reviews_2 to\n",
      "       |     /home/jovyan/nltk_data...\n",
      "       |   Unzipping corpora/product_reviews_2.zip.\n",
      "       | Downloading package pros_cons to /home/jovyan/nltk_data...\n",
      "       |   Unzipping corpora/pros_cons.zip.\n",
      "       | Downloading package qc to /home/jovyan/nltk_data...\n",
      "       |   Unzipping corpora/qc.zip.\n",
      "       | Downloading package reuters to /home/jovyan/nltk_data...\n",
      "       | Downloading package rte to /home/jovyan/nltk_data...\n",
      "       |   Unzipping corpora/rte.zip.\n",
      "       | Downloading package semcor to /home/jovyan/nltk_data...\n",
      "       | Downloading package senseval to /home/jovyan/nltk_data...\n",
      "       |   Unzipping corpora/senseval.zip.\n",
      "       | Downloading package sentiwordnet to /home/jovyan/nltk_data...\n",
      "       |   Unzipping corpora/sentiwordnet.zip.\n",
      "       | Downloading package sentence_polarity to\n",
      "       |     /home/jovyan/nltk_data...\n",
      "       |   Unzipping corpora/sentence_polarity.zip.\n",
      "       | Downloading package shakespeare to /home/jovyan/nltk_data...\n",
      "       |   Unzipping corpora/shakespeare.zip.\n",
      "       | Downloading package sinica_treebank to\n",
      "       |     /home/jovyan/nltk_data...\n",
      "       |   Unzipping corpora/sinica_treebank.zip.\n",
      "       | Downloading package smultron to /home/jovyan/nltk_data...\n",
      "       |   Unzipping corpora/smultron.zip.\n",
      "       | Downloading package state_union to /home/jovyan/nltk_data...\n",
      "       |   Unzipping corpora/state_union.zip.\n",
      "       | Downloading package stopwords to /home/jovyan/nltk_data...\n",
      "       |   Unzipping corpora/stopwords.zip.\n",
      "       | Downloading package subjectivity to /home/jovyan/nltk_data...\n",
      "       |   Unzipping corpora/subjectivity.zip.\n",
      "       | Downloading package swadesh to /home/jovyan/nltk_data...\n",
      "       |   Unzipping corpora/swadesh.zip.\n",
      "       | Downloading package switchboard to /home/jovyan/nltk_data...\n",
      "       |   Unzipping corpora/switchboard.zip.\n",
      "       | Downloading package timit to /home/jovyan/nltk_data...\n",
      "       |   Unzipping corpora/timit.zip.\n",
      "       | Downloading package toolbox to /home/jovyan/nltk_data...\n",
      "       |   Unzipping corpora/toolbox.zip.\n",
      "       | Downloading package treebank to /home/jovyan/nltk_data...\n",
      "       |   Unzipping corpora/treebank.zip.\n",
      "       | Downloading package twitter_samples to\n",
      "       |     /home/jovyan/nltk_data...\n",
      "       |   Unzipping corpora/twitter_samples.zip.\n",
      "       | Downloading package udhr to /home/jovyan/nltk_data...\n",
      "       |   Unzipping corpora/udhr.zip.\n",
      "       | Downloading package udhr2 to /home/jovyan/nltk_data...\n",
      "       |   Unzipping corpora/udhr2.zip.\n",
      "       | Downloading package unicode_samples to\n",
      "       |     /home/jovyan/nltk_data...\n",
      "       |   Unzipping corpora/unicode_samples.zip.\n",
      "       | Downloading package universal_treebanks_v20 to\n",
      "       |     /home/jovyan/nltk_data...\n"
     ]
    },
    {
     "name": "stderr",
     "output_type": "stream",
     "text": [
      "       | Downloading package verbnet to /home/jovyan/nltk_data...\n",
      "       |   Unzipping corpora/verbnet.zip.\n",
      "       | Downloading package verbnet3 to /home/jovyan/nltk_data...\n",
      "       |   Unzipping corpora/verbnet3.zip.\n",
      "       | Downloading package webtext to /home/jovyan/nltk_data...\n",
      "       |   Unzipping corpora/webtext.zip.\n",
      "       | Downloading package wordnet to /home/jovyan/nltk_data...\n",
      "       |   Unzipping corpora/wordnet.zip.\n",
      "       | Downloading package wordnet_ic to /home/jovyan/nltk_data...\n",
      "       |   Unzipping corpora/wordnet_ic.zip.\n",
      "       | Downloading package words to /home/jovyan/nltk_data...\n",
      "       |   Unzipping corpora/words.zip.\n",
      "       | Downloading package ycoe to /home/jovyan/nltk_data...\n",
      "       |   Unzipping corpora/ycoe.zip.\n",
      "       | Downloading package rslp to /home/jovyan/nltk_data...\n",
      "       |   Unzipping stemmers/rslp.zip.\n",
      "       | Downloading package maxent_treebank_pos_tagger to\n",
      "       |     /home/jovyan/nltk_data...\n",
      "       |   Unzipping taggers/maxent_treebank_pos_tagger.zip.\n",
      "       | Downloading package universal_tagset to\n",
      "       |     /home/jovyan/nltk_data...\n",
      "       |   Unzipping taggers/universal_tagset.zip.\n",
      "       | Downloading package maxent_ne_chunker to\n",
      "       |     /home/jovyan/nltk_data...\n",
      "       |   Unzipping chunkers/maxent_ne_chunker.zip.\n",
      "       | Downloading package punkt to /home/jovyan/nltk_data...\n",
      "       |   Unzipping tokenizers/punkt.zip.\n",
      "       | Downloading package book_grammars to\n",
      "       |     /home/jovyan/nltk_data...\n",
      "       |   Unzipping grammars/book_grammars.zip.\n",
      "       | Downloading package sample_grammars to\n",
      "       |     /home/jovyan/nltk_data...\n",
      "       |   Unzipping grammars/sample_grammars.zip.\n",
      "       | Downloading package spanish_grammars to\n",
      "       |     /home/jovyan/nltk_data...\n",
      "       |   Unzipping grammars/spanish_grammars.zip.\n",
      "       | Downloading package basque_grammars to\n",
      "       |     /home/jovyan/nltk_data...\n",
      "       |   Unzipping grammars/basque_grammars.zip.\n",
      "       | Downloading package large_grammars to\n",
      "       |     /home/jovyan/nltk_data...\n",
      "       |   Unzipping grammars/large_grammars.zip.\n",
      "       | Downloading package tagsets to /home/jovyan/nltk_data...\n",
      "       |   Unzipping help/tagsets.zip.\n",
      "       | Downloading package snowball_data to\n",
      "       |     /home/jovyan/nltk_data...\n",
      "       | Downloading package bllip_wsj_no_aux to\n",
      "       |     /home/jovyan/nltk_data...\n",
      "       |   Unzipping models/bllip_wsj_no_aux.zip.\n",
      "       | Downloading package word2vec_sample to\n",
      "       |     /home/jovyan/nltk_data...\n",
      "       |   Unzipping models/word2vec_sample.zip.\n",
      "       | Downloading package panlex_swadesh to\n",
      "       |     /home/jovyan/nltk_data...\n",
      "       | Downloading package mte_teip5 to /home/jovyan/nltk_data...\n",
      "       |   Unzipping corpora/mte_teip5.zip.\n",
      "       | Downloading package averaged_perceptron_tagger to\n",
      "       |     /home/jovyan/nltk_data...\n",
      "       |   Unzipping taggers/averaged_perceptron_tagger.zip.\n",
      "       | Downloading package averaged_perceptron_tagger_ru to\n",
      "       |     /home/jovyan/nltk_data...\n",
      "       |   Unzipping taggers/averaged_perceptron_tagger_ru.zip.\n",
      "       | Downloading package perluniprops to /home/jovyan/nltk_data...\n",
      "       |   Unzipping misc/perluniprops.zip.\n",
      "       | Downloading package nonbreaking_prefixes to\n",
      "       |     /home/jovyan/nltk_data...\n",
      "       |   Unzipping corpora/nonbreaking_prefixes.zip.\n",
      "       | Downloading package vader_lexicon to\n",
      "       |     /home/jovyan/nltk_data...\n",
      "       | Downloading package porter_test to /home/jovyan/nltk_data...\n",
      "       |   Unzipping stemmers/porter_test.zip.\n",
      "       | Downloading package wmt15_eval to /home/jovyan/nltk_data...\n",
      "       |   Unzipping models/wmt15_eval.zip.\n",
      "       | Downloading package mwa_ppdb to /home/jovyan/nltk_data...\n",
      "       |   Unzipping misc/mwa_ppdb.zip.\n",
      "       | \n",
      "     Done downloading collection all\n"
     ]
    },
    {
     "name": "stdout",
     "output_type": "stream",
     "text": [
      "\n",
      "---------------------------------------------------------------------------\n",
      "    d) Download   l) List    u) Update   c) Config   h) Help   q) Quit\n",
      "---------------------------------------------------------------------------\n",
      "Downloader> q\n",
      "importing Jupyter notebook from TasteDive_Lookup_Final_v2.ipynb\n",
      "importing Jupyter notebook from TasteDive_Recommend_Final_v2.ipynb\n"
     ]
    }
   ],
   "source": [
    "#imports\n",
    "#NOTE - WHEN THE NLTK DOWNLOADER APPEARS FOR THE FIRST TIME, YOU MUST DOWNLOAD ALL CORPORA AND PACKAGES (enter 'd', followed by 'all')\n",
    "#once the install is done, you may quit\n",
    "!pip install import_ipynb #install .ipynb notebook reader\n",
    "import import_ipynb #to read .ipynb files\n",
    "import Functions_v2, NLTK_Final_v2, TasteDive_Lookup_Final_v2, TasteDive_Recommend_Final_v2 #get them from other file"
   ]
  },
  {
   "cell_type": "code",
   "execution_count": 3,
   "metadata": {
    "scrolled": false
   },
   "outputs": [
    {
     "data": {
      "text/html": [
       "<h1><i><u>Plenty of Films</u></i></h1>"
      ],
      "text/plain": [
       "<IPython.core.display.HTML object>"
      ]
     },
     "metadata": {},
     "output_type": "display_data"
    },
    {
     "name": "stdout",
     "output_type": "stream",
     "text": [
      "Welcome to Plenty of Films. Please select what you would like to do: \n",
      "\n",
      "1: IMDB Top 250 Search \n",
      "2: Movie Lookup \n",
      "3: Movie Recommendations \n",
      "q: Quit \n",
      "\n",
      "1\n",
      "Would you like to search by: plot, actor, director, or genre? plot\n",
      "Please enter a single word to search for: love\n",
      "\n",
      "Search Results: \n"
     ]
    },
    {
     "data": {
      "text/plain": [
       "'Forrest Gump'"
      ]
     },
     "metadata": {},
     "output_type": "display_data"
    },
    {
     "data": {
      "text/plain": [
       "'City Lights'"
      ]
     },
     "metadata": {},
     "output_type": "display_data"
    },
    {
     "data": {
      "text/plain": [
       "'Annie Hall'"
      ]
     },
     "metadata": {},
     "output_type": "display_data"
    },
    {
     "data": {
      "text/plain": [
       "'Laura'"
      ]
     },
     "metadata": {},
     "output_type": "display_data"
    },
    {
     "data": {
      "text/plain": [
       "'Roman Holiday'"
      ]
     },
     "metadata": {},
     "output_type": "display_data"
    },
    {
     "data": {
      "text/plain": [
       "'Pirates of the Caribbean: The Curse of the Black Pearl'"
      ]
     },
     "metadata": {},
     "output_type": "display_data"
    },
    {
     "data": {
      "text/plain": [
       "'The Big Sleep'"
      ]
     },
     "metadata": {},
     "output_type": "display_data"
    },
    {
     "data": {
      "text/plain": [
       "'Magnolia'"
      ]
     },
     "metadata": {},
     "output_type": "display_data"
    },
    {
     "data": {
      "text/plain": [
       "'Aladdin'"
      ]
     },
     "metadata": {},
     "output_type": "display_data"
    },
    {
     "name": "stdout",
     "output_type": "stream",
     "text": [
      "Would you like to: \n",
      "    Search the top 250 again? Enter '1' to search again. \n",
      "    Return to the main menu? Enter '2' to return. \n",
      "2\n",
      "Welcome to Plenty of Films. Please select what you would like to do: \n",
      "\n",
      "1: IMDB Top 250 Search \n",
      "2: Movie Lookup \n",
      "3: Movie Recommendations \n",
      "q: Quit \n",
      "\n",
      "2\n",
      "What film would you like to lookup? Please enter the title: Up\n"
     ]
    },
    {
     "data": {
      "text/html": [
       "<h4>Up</h4>"
      ],
      "text/plain": [
       "<IPython.core.display.HTML object>"
      ]
     },
     "metadata": {},
     "output_type": "display_data"
    },
    {
     "data": {
      "text/html": [
       "Upis a 2009 American 3D computer-animated comedy-drama buddy adventure\n",
       "film produced by Pixar Animation Studios and released by Walt Disney\n",
       "Pictures. The film centers on an elderly widower named Carl\n",
       "Fredricksen (Ed Asner) and an earnest boy named Russell (Jordan\n",
       "Nagai). By tying thousands of balloons to his house, Carl sets out to\n",
       "fulfill his dream to see the wilds of South America and complete a\n",
       "promise made to his late wife, Ellie. The film was directed by Pete\n",
       "Docter and co-directed by Bob Peterson, who also wrote the film's\n",
       "screenplay, as well as the story with Tom McCarthy, with music\n",
       "composed by Michael Giacchino.Docter began working on the story in\n",
       "2004, which was based on fantasies of escaping from life when it\n",
       "becomes too irritating. He and eleven other Pixar artists spent three\n",
       "days in Venezuela gathering research and inspiration. The designs of\n",
       "the characters were caricatured and stylized considerably, and\n",
       "animators were challenged with creating realistic cloth."
      ],
      "text/plain": [
       "<IPython.core.display.HTML object>"
      ]
     },
     "metadata": {},
     "output_type": "display_data"
    },
    {
     "data": {
      "image/jpeg": "[encoded data removed]",
      "text/html": [
       "\n",
       "        <iframe\n",
       "            width=\"400\"\n",
       "            height=\"300\"\n",
       "            src=\"https://www.youtube.com/embed/ORFWdXl_zJ4\"\n",
       "            frameborder=\"0\"\n",
       "            allowfullscreen\n",
       "        ></iframe>\n",
       "        "
      ],
      "text/plain": [
       "<IPython.lib.display.YouTubeVideo at 0x7fdd57aa1fd0>"
      ]
     },
     "metadata": {},
     "output_type": "display_data"
    },
    {
     "name": "stdout",
     "output_type": "stream",
     "text": [
      "Would you like to: \n",
      "    Search for a different title? Enter '1' to search again. \n",
      "    Return to the main menu? Enter '2' to return. \n",
      "2\n",
      "Welcome to Plenty of Films. Please select what you would like to do: \n",
      "\n",
      "1: IMDB Top 250 Search \n",
      "2: Movie Lookup \n",
      "3: Movie Recommendations \n",
      "q: Quit \n",
      "\n",
      "3\n",
      "What film would you like to view recommendations from? Please enter the title: Up\n",
      "How many recommendations would you like to view? Please enter a number, 1-10: 3\n"
     ]
    },
    {
     "data": {
      "text/html": [
       "<h4>Ratatouille</h4>"
      ],
      "text/plain": [
       "<IPython.core.display.HTML object>"
      ]
     },
     "metadata": {},
     "output_type": "display_data"
    },
    {
     "data": {
      "text/html": [
       "Ratatouilleis a 2007 American computer-animated comedy film produced\n",
       "by Pixar and released by Walt Disney Pictures. It was the eighth film\n",
       "produced by Pixar, and was co-written and directed by Brad Bird, who\n",
       "took over from Jan Pinkava in 2005. The title refers to the French\n",
       "dish Ratatouille, which is served at the end of the film and also\n",
       "references the species of the main character, a rat. The plot follows\n",
       "a rat named Remy, who dreams of becoming a chef and tries to achieve\n",
       "his goal by forming an alliance with a Parisian restaurant's garbage\n",
       "boy.The film stars the voices of Patton Oswalt as Remy, an\n",
       "anthropomorphic rat who is interested in cooking; Lou Romano as\n",
       "Alfredo Linguini, a young garbage boy who befriends Remy; Ian Holm as\n",
       "Skinner, the head chef of Auguste Gusteau's restaurant; Janeane\n",
       "Garofalo as Colette, a rôtisseur at Gusteau's restaurant; Peter\n",
       "O'Toole as Anton Ego, a restaurant critic; Brian Dennehy as Django,\n",
       "Remy's father and leader of his clan; Peter Sohn as Emile, Remy's\n",
       "older brother; and Brad Garrett as Auguste Gusteau, a recently\n",
       "deceased chef."
      ],
      "text/plain": [
       "<IPython.core.display.HTML object>"
      ]
     },
     "metadata": {},
     "output_type": "display_data"
    },
    {
     "data": {
      "image/jpeg": "[encoded data removed]",
      "text/html": [
       "\n",
       "        <iframe\n",
       "            width=\"400\"\n",
       "            height=\"300\"\n",
       "            src=\"https://www.youtube.com/embed/c3sBBRxDAqk\"\n",
       "            frameborder=\"0\"\n",
       "            allowfullscreen\n",
       "        ></iframe>\n",
       "        "
      ],
      "text/plain": [
       "<IPython.lib.display.YouTubeVideo at 0x7fdd578f0b38>"
      ]
     },
     "metadata": {},
     "output_type": "display_data"
    },
    {
     "data": {
      "text/html": [
       "<h4>Monsters, Inc.</h4>"
      ],
      "text/plain": [
       "<IPython.core.display.HTML object>"
      ]
     },
     "metadata": {},
     "output_type": "display_data"
    },
    {
     "data": {
      "text/html": [
       "Monsters, Inc.is a 2001 American computer-animated comedy film\n",
       "produced by Pixar Animation Studios and distributed by Walt Disney\n",
       "Pictures. Featuring the voices of John Goodman, Billy Crystal, Steve\n",
       "Buscemi, James Coburn, and Jennifer Tilly, the film was directed by\n",
       "Pete Docter in his directorial debut, and executive produced by John\n",
       "Lasseter and Andrew Stanton. The film centers on two monsters – James\n",
       "P. \"Sulley\" Sullivan and his one-eyed partner and best friend Mike\n",
       "Wazowski – employed at the titular energy-producing factory Monsters,\n",
       "Inc, which generates power by scaring human children. The monster\n",
       "world believes that children are toxic, and when a small child enters\n",
       "the factory, Sulley and Mike must return her home before it is too\n",
       "late."
      ],
      "text/plain": [
       "<IPython.core.display.HTML object>"
      ]
     },
     "metadata": {},
     "output_type": "display_data"
    },
    {
     "data": {
      "image/jpeg": "[encoded data removed]",
      "text/html": [
       "\n",
       "        <iframe\n",
       "            width=\"400\"\n",
       "            height=\"300\"\n",
       "            src=\"https://www.youtube.com/embed/cvOQeozL4S0\"\n",
       "            frameborder=\"0\"\n",
       "            allowfullscreen\n",
       "        ></iframe>\n",
       "        "
      ],
      "text/plain": [
       "<IPython.lib.display.YouTubeVideo at 0x7fdd578ed940>"
      ]
     },
     "metadata": {},
     "output_type": "display_data"
    },
    {
     "data": {
      "text/html": [
       "<h4>Toy Story 3</h4>"
      ],
      "text/plain": [
       "<IPython.core.display.HTML object>"
      ]
     },
     "metadata": {},
     "output_type": "display_data"
    },
    {
     "data": {
      "text/html": [
       "Toy Story 3is a  2010 American computer-animated comedy film produced\n",
       "by Pixar Animation Studios for Walt Disney Pictures. It is the third\n",
       "installment in Pixar'sToy Storyseries, and the sequel to 1999'sToy\n",
       "Story 2. It was directed by Lee Unkrich, the editor of the first two\n",
       "films and the co-director ofToy Story 2, written by Michael Arndt,\n",
       "while Unkrich wrote the story along with John Lasseter and Andrew\n",
       "Stanton, respectively director and co-writer of the first two\n",
       "films.The plot focuses on Woody, Buzz Lightyear, and Andy's other\n",
       "remaining toys accidentally being donated to a day care center, while\n",
       "Andy, now 17 years old, is preparing to leave for college, and their\n",
       "ensuing race to get home before Andy leaves. In the film's ensemble\n",
       "voice cast, Tom Hanks, Tim Allen, Joan Cusack, Don Rickles, Wallace\n",
       "Shawn, John Ratzenberger, Estelle Harris, Jodi Benson, John Morris,\n",
       "Laurie Metcalf and R. Lee Ermey, reprise their roles from previous\n",
       "films. Jim Varney, who voiced Slinky Dog in the first two films, died\n",
       "on February 10, 2000, 10 years before the release of the third film,\n",
       "so the role of Slinky was passed down to Blake Clark. The returning\n",
       "cast is joined by Ned Beatty, Michael Keaton, Whoopi Goldberg, Timothy\n",
       "Dalton, Kristen Schaal, Bonnie Hunt, and Jeff Garlin who voice the new\n",
       "characters introduced in this film."
      ],
      "text/plain": [
       "<IPython.core.display.HTML object>"
      ]
     },
     "metadata": {},
     "output_type": "display_data"
    },
    {
     "data": {
      "image/jpeg": "[encoded data removed]",
      "text/html": [
       "\n",
       "        <iframe\n",
       "            width=\"400\"\n",
       "            height=\"300\"\n",
       "            src=\"https://www.youtube.com/embed/JcpWXaA2qeg\"\n",
       "            frameborder=\"0\"\n",
       "            allowfullscreen\n",
       "        ></iframe>\n",
       "        "
      ],
      "text/plain": [
       "<IPython.lib.display.YouTubeVideo at 0x7fdd578ed940>"
      ]
     },
     "metadata": {},
     "output_type": "display_data"
    },
    {
     "name": "stdout",
     "output_type": "stream",
     "text": [
      "Would you like to: \n",
      "    Search for a different title? Enter '1' to search again. \n",
      "    Return to the main menu? Enter '2' to return. \n",
      "2\n",
      "Welcome to Plenty of Films. Please select what you would like to do: \n",
      "\n",
      "1: IMDB Top 250 Search \n",
      "2: Movie Lookup \n",
      "3: Movie Recommendations \n",
      "q: Quit \n",
      "\n",
      "q\n",
      "Goodbye, we hope you found your flick!\n"
     ]
    }
   ],
   "source": [
    "#title\n",
    "from IPython.display import display, HTML\n",
    "display(HTML(\"<h1><i><u>Plenty of Films</u></i></h1>\")) #title\n",
    "\n",
    "\n",
    "\n",
    "#menu\n",
    "def menu():\n",
    "    '''Calls the menu function from Functions. Will return the user seletion'''\n",
    "    choice = Functions_v2.menu() #call menu() function from Functions notebook\n",
    "    return choice\n",
    "\n",
    "#logic of tree split in menu\n",
    "def menu_pathing():\n",
    "    '''The main logic system for the program. Routing happens here: based on user choice, launch that portion of the program \n",
    "    via calling those functions.'''\n",
    "    while True:\n",
    "        choice = menu() #get user choice\n",
    "        if choice == \"1\": #go to IMBD Top 250\n",
    "            data = NLTK_Final_v2.create_table_250() #call function from NLTK_Final notebook\n",
    "            NLTK_Final_v2.search_params(data) #call function from NLTK_Final notebook\n",
    "        elif choice == \"2\": #go to TasteDive_Lookup\n",
    "            TasteDive_Lookup_Final_v2.query_movie() #call function from TasteDive_Lookup_Final notebook\n",
    "        elif choice == \"3\": #go to TasteDive_Recommend\n",
    "            TasteDive_Recommend_Final_v2.query_movie() #call function from TasteDive_Recommmend_Final notebook\n",
    "        elif choice == 'q': #quit program\n",
    "            print(\"Goodbye, we hope you found your flick!\") #farewell message\n",
    "            break\n",
    "        else: #for some reason if bad input sneaks through the first catch, this sdoulf also catch it\n",
    "            print(\"You entered an invalid input. Please run the program again. \") #Error message\n",
    "        \n",
    "menu_pathing() #run program"
   ]
  },
  {
   "cell_type": "code",
   "execution_count": null,
   "metadata": {},
   "outputs": [],
   "source": []
  }
 ],
 "metadata": {
  "kernelspec": {
   "display_name": "Python 3",
   "language": "python",
   "name": "python3"
  },
  "language_info": {
   "codemirror_mode": {
    "name": "ipython",
    "version": 3
   },
   "file_extension": ".py",
   "mimetype": "text/x-python",
   "name": "python",
   "nbconvert_exporter": "python",
   "pygments_lexer": "ipython3",
   "version": "3.7.3"
  }
 },
 "nbformat": 4,
 "nbformat_minor": 2
}
