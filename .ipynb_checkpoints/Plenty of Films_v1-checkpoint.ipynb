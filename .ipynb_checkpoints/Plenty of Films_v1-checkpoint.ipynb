{
 "cells": [
  {
   "cell_type": "code",
   "execution_count": 1,
   "metadata": {
    "scrolled": true
   },
   "outputs": [
    {
     "name": "stdout",
     "output_type": "stream",
     "text": [
      "Requirement already satisfied: import_ipynb in /opt/conda/lib/python3.7/site-packages (0.1.3)\n",
      "importing Jupyter notebook from Functions.ipynb\n",
      "importing Jupyter notebook from NLTK_Final.ipynb\n",
      "Requirement already satisfied: nltk in /opt/conda/lib/python3.7/site-packages (3.4.5)\n",
      "Requirement already satisfied: six in /opt/conda/lib/python3.7/site-packages (from nltk) (1.12.0)\n",
      "NLTK Downloader\n",
      "---------------------------------------------------------------------------\n",
      "    d) Download   l) List    u) Update   c) Config   h) Help   q) Quit\n",
      "---------------------------------------------------------------------------\n",
      "Downloader> d\n",
      "\n",
      "Download which package (l=list; x=cancel)?\n",
      "  Identifier> x\n",
      "\n",
      "---------------------------------------------------------------------------\n",
      "    d) Download   l) List    u) Update   c) Config   h) Help   q) Quit\n",
      "---------------------------------------------------------------------------\n",
      "Downloader> u\n",
      "\n",
      "Nothing to update.\n",
      "\n",
      "---------------------------------------------------------------------------\n",
      "    d) Download   l) List    u) Update   c) Config   h) Help   q) Quit\n",
      "---------------------------------------------------------------------------\n",
      "Downloader> q\n",
      "importing Jupyter notebook from TasteDive_Lookup_Final.ipynb\n",
      "importing Jupyter notebook from TasteDive_Recommend_Final.ipynb\n"
     ]
    }
   ],
   "source": [
    "#imports\n",
    "#NOTE - WHEN THE NLTK DOWNLOADER APPEARS FOR THE FIRST TIME, YOU MUST DOWNLOAD ALL CORPORA AND PACKAGES (enter 'd', followed by 'all')\n",
    "#once the install is done, you may quit\n",
    "!pip install import_ipynb #install .ipynb notebook reader\n",
    "import import_ipynb #to read .ipynb files\n",
    "import Functions_v1, NLTK_Final_v1, TasteDive_Lookup_Final_v1, TasteDive_Recommend_Final_v1 #get them from other file"
   ]
  },
  {
   "cell_type": "code",
   "execution_count": 5,
   "metadata": {
    "scrolled": false
   },
   "outputs": [
    {
     "data": {
      "text/html": [
       "<h1><i><u>Plenty of Films</u></i></h1>"
      ],
      "text/plain": [
       "<IPython.core.display.HTML object>"
      ]
     },
     "metadata": {},
     "output_type": "display_data"
    },
    {
     "name": "stdout",
     "output_type": "stream",
     "text": [
      "Welcome to Plenty of Films. Please select what you would like to do: \n",
      "\n",
      "1: IMDB Top 250 Search \n",
      "2: Movie Lookup \n",
      "3: Movie Recommendations \n",
      "q: Quit \n",
      "\n",
      "q\n",
      "Goodbye, we hope you found your flick!\n"
     ]
    }
   ],
   "source": [
    "#title\n",
    "from IPython.display import display, HTML\n",
    "display(HTML(\"<h1><i><u>Plenty of Films</u></i></h1>\")) #title\n",
    "\n",
    "\n",
    "\n",
    "#menu\n",
    "def menu():\n",
    "    '''Calls the menu function from Functions. Will return the user seletion'''\n",
    "    choice = Functions_v1.menu() #call menu() function from Functions notebook\n",
    "    return choice\n",
    "\n",
    "#logic of tree split in menu\n",
    "def menu_pathing():\n",
    "    '''The main logic system for the program. Routing happens here: based on user choice, launch that portion of the program \n",
    "    via calling those functions.'''\n",
    "    choice = menu() #get user choice\n",
    "    if choice == \"1\": #go to IMBD Top 250\n",
    "        data = NLTK_Final_v1.callimdblist() #call function from NLTK_Final notebook\n",
    "        data = NLTK_Final_v1.create_table_250() #call function from NLTK_Final notebook\n",
    "        menu_route = NLTK_Final_v1.search_params(data) #call function from NLTK_Final notebook\n",
    "    elif choice == \"2\": #go to TasteDive_Lookup\n",
    "        menu_route = TasteDive_Lookup_Final_v1.query_movie() #call function from TasteDive_Lookup_Final notebook\n",
    "    elif choice == \"3\": #go to TasteDive_Recommend\n",
    "        menu_route = TasteDive_Recommend_Final_v1.query_movie() #call function from TasteDive_Recommmend_Final notebook\n",
    "    elif choice == 'q': #quit program\n",
    "        menu_route = False #don't return to menu()\n",
    "        print(\"Goodbye, we hope you found your flick!\") #farewell message\n",
    "    else: #for some reason if bad input sneaks through the first catch, this sdoulf also catch it\n",
    "        print(\"You entered an invalid input. Please run the program again. \") #Error message\n",
    "    if menu_route == True: #if user selects to go back to menu(), then run it again\n",
    "        menu_pathing()\n",
    "        \n",
    "menu_pathing() #run program"
   ]
  },
  {
   "cell_type": "code",
   "execution_count": null,
   "metadata": {},
   "outputs": [],
   "source": []
  },
  {
   "cell_type": "code",
   "execution_count": null,
   "metadata": {},
   "outputs": [],
   "source": []
  }
 ],
 "metadata": {
  "kernelspec": {
   "display_name": "Python 3",
   "language": "python",
   "name": "python3"
  },
  "language_info": {
   "codemirror_mode": {
    "name": "ipython",
    "version": 3
   },
   "file_extension": ".py",
   "mimetype": "text/x-python",
   "name": "python",
   "nbconvert_exporter": "python",
   "pygments_lexer": "ipython3",
   "version": "3.7.3"
  }
 },
 "nbformat": 4,
 "nbformat_minor": 2
}
