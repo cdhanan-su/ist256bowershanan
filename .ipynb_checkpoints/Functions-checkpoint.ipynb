{
 "cells": [
  {
   "cell_type": "code",
   "execution_count": 21,
   "metadata": {},
   "outputs": [],
   "source": [
    "#IMPORTANT: first - run imports\n",
    "def import_modules():\n",
    "    '''Imports all the necessary modules for the program - Does not need any input'''\n",
    "    import nltk #for IMDB Top 250\n",
    "    from nltk.corpus import stopwords #for IMDB Top 250\n",
    "    from nltk.tokenize import word_tokenize #for IMDB Top 250\n",
    "    import pandas as pd #for IMDB Top 250\n",
    "    import requests #for TasteDive\n",
    "    from IPython.display import YouTubeVideo #for TasteDive\n",
    "    return\n",
    "\n",
    "###########################################################################\n",
    "\n",
    "#opening menu interactive\n",
    "def menu():\n",
    "    '''Offers menu options to start the program - does not need input, only to be called'''\n",
    "    options = (\"1\", \"2\", \"3\") #initialize the set of valid options\n",
    "    print(\"Welcome to the Movie Lookup Engine. Please select what you would like to do: \")\n",
    "    while True: #start loop to force a valid selection\n",
    "        print(\"\\n1: IMDB Top 250 Search \") #option 1 - NLTK\n",
    "        print(\"2: Movie Lookup \") #option 2 - TasteDive (lookup)\n",
    "        print(\"3: Movie Reccomendations \\n\") #option 3 - TasteDive (similar)\n",
    "        choice = input() #Take choice\n",
    "        if choice not in options: #If choice is not 1, 2, or 3 then restart the loop\n",
    "            print(\"\\nYou entered an invalid selection. \\n\\nPlease try again by entering the number of the selection you would like to make: \")\n",
    "        else: #otherwise return the option to use later\n",
    "            break\n",
    "    return choice"
   ]
  },
  {
   "cell_type": "code",
   "execution_count": null,
   "metadata": {},
   "outputs": [],
   "source": []
  }
 ],
 "metadata": {
  "kernelspec": {
   "display_name": "Python 3",
   "language": "python",
   "name": "python3"
  },
  "language_info": {
   "codemirror_mode": {
    "name": "ipython",
    "version": 3
   },
   "file_extension": ".py",
   "mimetype": "text/x-python",
   "name": "python",
   "nbconvert_exporter": "python",
   "pygments_lexer": "ipython3",
   "version": "3.7.3"
  }
 },
 "nbformat": 4,
 "nbformat_minor": 2
}
