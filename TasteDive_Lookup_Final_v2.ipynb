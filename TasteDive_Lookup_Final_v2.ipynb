{
 "cells": [
  {
   "cell_type": "code",
   "execution_count": 2,
   "metadata": {},
   "outputs": [],
   "source": [
    "import requests #for TasteDive\n",
    "from IPython.display import YouTubeVideo, HTML, display #for TasteDive\n",
    "import textwrap #for displaying the synopsis\n",
    "import json #for receiving and "
   ]
  },
  {
   "cell_type": "code",
   "execution_count": 14,
   "metadata": {},
   "outputs": [],
   "source": [
    "def lookup_movie(title): #API call to TasteDive to get movie info\n",
    "    '''Call TasteDive API to view info about a film. Requires your own API key to run. \n",
    "        pass the film title as the argument.'''\n",
    "    try: #attempt\n",
    "        url = \"https://tastedive.com/api/similar\" #API url\n",
    "        with open(\"env_variables\") as f: #get API key from file\n",
    "            api_key = f.readlines()\n",
    "            api_key = api_key[3]\n",
    "            api_key = api_key[:-1]\n",
    "        data = {'q': title, 'type': 'movies', 'info': [1], 'limit': [10], 'k': api_key} #parameters\n",
    "        resp = requests.get(url, data) #request data in a GET\n",
    "        rec = resp.json() #de-serialize json\n",
    "        title = rec['Similar']['Info'][0]['Name'] #print title\n",
    "        try: #attempt\n",
    "            teaser = rec['Similar']['Info'][0]['wTeaser'] #print teaser\n",
    "            trailer = YouTubeVideo(rec['Similar']['Info'][0]['yID'], width=400, height=300) #embed trailer\n",
    "        except KeyError: #unless there are no results - then print null values\n",
    "            print(f\"\\nNo results found for '{title}'. \")\n",
    "            teaser = ''\n",
    "            trailer = ''\n",
    "        #handle errors in connecting with the API\n",
    "    except requests.exceptions.RequestException as e:\n",
    "        print(\"ERROR: Cannot connect to website, please try again later. \")\n",
    "        print(\"DETAILS:\", e)\n",
    "    except requests.exceptions.HTTPError as e:\n",
    "        print(\"ERROR: Response from the website was not ok.\")\n",
    "        print(\"DETAILS:\", e)          \n",
    "    except json.decoder.JSONDecodeError as e: \n",
    "        print(\"ERROR: Cannot decode the response with json\")\n",
    "        print(\"DETAILS\", e)\n",
    "        \n",
    "    return title, teaser, trailer #return the title, teaser, trailer\n",
    "\n",
    "\n",
    "\n",
    "def query_movie(): #main logic for this portion of the code\n",
    "    '''This function is the main body of the lookup code. No arguments required'''\n",
    "    while True: #enter loop\n",
    "        search = input(\"What film would you like to lookup? Please enter the title: \") #input\n",
    "        title, teaser, trailer = lookup_movie(search) #receive tuple from function\n",
    "        display(HTML(f\"<h4>{title}</h4>\")) #display with formatting\n",
    "        display(HTML(f\"{textwrap.fill(teaser)}\"))\n",
    "        display(trailer) #embed trailer\n",
    "        menu_route = lookup_continuation() #user choice to continue\n",
    "        if menu_route == True: #if they want to go to menu, break -- otherwise re-loop\n",
    "                break\n",
    "    return\n",
    "\n",
    "\n",
    "\n",
    "def lookup_continuation(): #logic for continuation option\n",
    "    '''Checks if the user wants to return to the menu or not. Returns bool value.'''\n",
    "    while True: #enter loop and present options\n",
    "        print(\"Would you like to: \")\n",
    "        print(\"    Search for a different title? Enter '1' to search again. \")\n",
    "        print(\"    Return to the main menu? Enter '2' to return. \")\n",
    "        choice = input() #take choice\n",
    "        if choice == '1': #option 1\n",
    "            menu_route = False #do not want to go to menu\n",
    "            break\n",
    "        elif choice == '2': #option 2\n",
    "            menu_route = True #want to go to menu\n",
    "            break\n",
    "        else: #error message\n",
    "            print(\"Please make a valid selection. Choose '1' to search again, or '2' to return. \")\n",
    "    return menu_route #return bool of choice"
   ]
  },
  {
   "cell_type": "code",
   "execution_count": null,
   "metadata": {},
   "outputs": [],
   "source": []
  }
 ],
 "metadata": {
  "kernelspec": {
   "display_name": "Python 3",
   "language": "python",
   "name": "python3"
  },
  "language_info": {
   "codemirror_mode": {
    "name": "ipython",
    "version": 3
   },
   "file_extension": ".py",
   "mimetype": "text/x-python",
   "name": "python",
   "nbconvert_exporter": "python",
   "pygments_lexer": "ipython3",
   "version": "3.7.3"
  }
 },
 "nbformat": 4,
 "nbformat_minor": 2
}
