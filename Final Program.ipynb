{
 "cells": [
  {
   "cell_type": "code",
   "execution_count": 2,
   "metadata": {},
   "outputs": [
    {
     "name": "stdout",
     "output_type": "stream",
     "text": [
      "importing Jupyter notebook from Functions.ipynb\n",
      "importing Jupyter notebook from NLTK_Final.ipynb\n",
      "Requirement already satisfied: nltk in /opt/conda/lib/python3.7/site-packages (3.4.5)\n",
      "Requirement already satisfied: six in /opt/conda/lib/python3.7/site-packages (from nltk) (1.12.0)\n",
      "NLTK Downloader\n",
      "---------------------------------------------------------------------------\n",
      "    d) Download   l) List    u) Update   c) Config   h) Help   q) Quit\n",
      "---------------------------------------------------------------------------\n",
      "Downloader> q\n"
     ]
    }
   ],
   "source": [
    "#imports\n",
    "import import_ipynb #to read .ipynb files\n",
    "import Functions #get them from other file\n",
    "import NLTK_Final #read other file"
   ]
  },
  {
   "cell_type": "code",
   "execution_count": 3,
   "metadata": {},
   "outputs": [
    {
     "data": {
      "text/html": [
       "<h1><i><u>Movie Recommendation Engine</u></i></h1>"
      ],
      "text/plain": [
       "<IPython.core.display.HTML object>"
      ]
     },
     "metadata": {},
     "output_type": "display_data"
    },
    {
     "name": "stdout",
     "output_type": "stream",
     "text": [
      "Welcome to the Movie Lookup Engine. Please select what you would like to do: \n",
      "\n",
      "1: IMDB Top 250 Search \n",
      "2: Movie Lookup \n",
      "3: Movie Reccomendations \n",
      "\n",
      "1\n",
      "Would you like to search by: plot, actor, director, or genre? plot\n",
      "Please enter a single word to search for: love\n",
      "\n",
      "Search Results: \n"
     ]
    },
    {
     "data": {
      "text/plain": [
       "'Forrest Gump'"
      ]
     },
     "metadata": {},
     "output_type": "display_data"
    },
    {
     "data": {
      "text/plain": [
       "'City Lights'"
      ]
     },
     "metadata": {},
     "output_type": "display_data"
    },
    {
     "data": {
      "text/plain": [
       "'Annie Hall'"
      ]
     },
     "metadata": {},
     "output_type": "display_data"
    },
    {
     "data": {
      "text/plain": [
       "'Laura'"
      ]
     },
     "metadata": {},
     "output_type": "display_data"
    },
    {
     "data": {
      "text/plain": [
       "'Roman Holiday'"
      ]
     },
     "metadata": {},
     "output_type": "display_data"
    },
    {
     "data": {
      "text/plain": [
       "'Pirates of the Caribbean: The Curse of the Black Pearl'"
      ]
     },
     "metadata": {},
     "output_type": "display_data"
    },
    {
     "data": {
      "text/plain": [
       "'The Big Sleep'"
      ]
     },
     "metadata": {},
     "output_type": "display_data"
    },
    {
     "data": {
      "text/plain": [
       "'Magnolia'"
      ]
     },
     "metadata": {},
     "output_type": "display_data"
    },
    {
     "data": {
      "text/plain": [
       "'Aladdin'"
      ]
     },
     "metadata": {},
     "output_type": "display_data"
    },
    {
     "name": "stdout",
     "output_type": "stream",
     "text": [
      "Would you like to: \n",
      "\n",
      "    Learn more about one of these titles? Enter '1' to explore. \n",
      "    Search the top 250 again? Enter '2' to search again. \n",
      "    Return to the main menu? Enter '3' to continue. \n",
      "    Quit. Enter 'q' to quit. \n",
      "\n",
      "3\n",
      "Welcome to the Movie Lookup Engine. Please select what you would like to do: \n",
      "\n",
      "1: IMDB Top 250 Search \n",
      "2: Movie Lookup \n",
      "3: Movie Reccomendations \n",
      "\n",
      "1\n",
      "Would you like to search by: plot, actor, director, or genre? plot\n",
      "Please enter a single word to search for: love\n",
      "\n",
      "Search Results: \n"
     ]
    },
    {
     "data": {
      "text/plain": [
       "'Forrest Gump'"
      ]
     },
     "metadata": {},
     "output_type": "display_data"
    },
    {
     "data": {
      "text/plain": [
       "'City Lights'"
      ]
     },
     "metadata": {},
     "output_type": "display_data"
    },
    {
     "data": {
      "text/plain": [
       "'Annie Hall'"
      ]
     },
     "metadata": {},
     "output_type": "display_data"
    },
    {
     "data": {
      "text/plain": [
       "'Laura'"
      ]
     },
     "metadata": {},
     "output_type": "display_data"
    },
    {
     "data": {
      "text/plain": [
       "'Roman Holiday'"
      ]
     },
     "metadata": {},
     "output_type": "display_data"
    },
    {
     "data": {
      "text/plain": [
       "'Pirates of the Caribbean: The Curse of the Black Pearl'"
      ]
     },
     "metadata": {},
     "output_type": "display_data"
    },
    {
     "data": {
      "text/plain": [
       "'The Big Sleep'"
      ]
     },
     "metadata": {},
     "output_type": "display_data"
    },
    {
     "data": {
      "text/plain": [
       "'Magnolia'"
      ]
     },
     "metadata": {},
     "output_type": "display_data"
    },
    {
     "data": {
      "text/plain": [
       "'Aladdin'"
      ]
     },
     "metadata": {},
     "output_type": "display_data"
    },
    {
     "name": "stdout",
     "output_type": "stream",
     "text": [
      "Would you like to: \n",
      "\n",
      "    Learn more about one of these titles? Enter '1' to explore. \n",
      "    Search the top 250 again? Enter '2' to search again. \n",
      "    Return to the main menu? Enter '3' to continue. \n",
      "    Quit. Enter 'q' to quit. \n",
      "\n",
      "q\n"
     ]
    }
   ],
   "source": [
    "#title\n",
    "from IPython.display import display, HTML\n",
    "display(HTML(\"<h1><i><u>Movie Recommendation Engine</u></i></h1>\")) #title\n",
    "\n",
    "\n",
    "\n",
    "#menu\n",
    "def menu():\n",
    "    choice = Functions.menu()\n",
    "    return choice\n",
    "\n",
    "#logic of tree split in menu\n",
    "def menu_pathing():\n",
    "    choice = menu()\n",
    "    if choice == \"1\":\n",
    "        data = NLTK_Final.callimdblist()\n",
    "        data = NLTK_Final.create_table_250()\n",
    "        menu_route = NLTK_Final.search_params(data)\n",
    "        if menu_route == True:\n",
    "            menu_pathing()\n",
    "    elif choice == \"2\":\n",
    "        print(\"2 - success\")\n",
    "    elif choice == \"3\":\n",
    "        print(\"3 - success\")\n",
    "    else:\n",
    "        print(\"Error\")\n",
    "        \n",
    "menu_pathing()"
   ]
  },
  {
   "cell_type": "code",
   "execution_count": 3,
   "metadata": {},
   "outputs": [
    {
     "data": {
      "text/plain": [
       "pandas.core.frame.DataFrame"
      ]
     },
     "execution_count": 3,
     "metadata": {},
     "output_type": "execute_result"
    }
   ],
   "source": [
    "type(data)"
   ]
  },
  {
   "cell_type": "code",
   "execution_count": null,
   "metadata": {},
   "outputs": [],
   "source": []
  }
 ],
 "metadata": {
  "kernelspec": {
   "display_name": "Python 3",
   "language": "python",
   "name": "python3"
  },
  "language_info": {
   "codemirror_mode": {
    "name": "ipython",
    "version": 3
   },
   "file_extension": ".py",
   "mimetype": "text/x-python",
   "name": "python",
   "nbconvert_exporter": "python",
   "pygments_lexer": "ipython3",
   "version": "3.7.3"
  }
 },
 "nbformat": 4,
 "nbformat_minor": 2
}
